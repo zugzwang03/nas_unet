{
  "cells": [
    {
      "cell_type": "markdown",
      "metadata": {
        "id": "view-in-github",
        "colab_type": "text"
      },
      "source": [
        "<a href=\"https://colab.research.google.com/github/zugzwang03/nas_unet/blob/main/nas_unet.ipynb\" target=\"_parent\"><img src=\"https://colab.research.google.com/assets/colab-badge.svg\" alt=\"Open In Colab\"/></a>"
      ]
    },
    {
      "cell_type": "code",
      "execution_count": 1,
      "metadata": {
        "colab": {
          "base_uri": "https://localhost:8080/"
        },
        "id": "IWBaH003LLOO",
        "outputId": "63fc7467-be1b-46af-eafa-2ce711ceb62f"
      },
      "outputs": [
        {
          "output_type": "stream",
          "name": "stdout",
          "text": [
            "Cloning into 'NasUnet'...\n",
            "remote: Enumerating objects: 381, done.\u001b[K\n",
            "remote: Counting objects: 100% (115/115), done.\u001b[K\n",
            "remote: Compressing objects: 100% (60/60), done.\u001b[K\n",
            "remote: Total 381 (delta 78), reused 65 (delta 55), pack-reused 266 (from 1)\u001b[K\n",
            "Receiving objects: 100% (381/381), 29.97 MiB | 18.69 MiB/s, done.\n",
            "Resolving deltas: 100% (142/142), done.\n"
          ]
        }
      ],
      "source": [
        "!git clone https://github.com/zugzwang03/NasUnet.git"
      ]
    },
    {
      "cell_type": "code",
      "execution_count": 2,
      "metadata": {
        "colab": {
          "base_uri": "https://localhost:8080/"
        },
        "id": "xttQgNHFLe2N",
        "outputId": "85c1e6a2-4e7d-443d-9513-1a112f607059"
      },
      "outputs": [
        {
          "output_type": "stream",
          "name": "stdout",
          "text": [
            "/content/NasUnet\n"
          ]
        }
      ],
      "source": [
        "%cd '/content/NasUnet'"
      ]
    },
    {
      "cell_type": "code",
      "execution_count": 3,
      "metadata": {
        "colab": {
          "base_uri": "https://localhost:8080/"
        },
        "id": "MKqq0QTTNKzz",
        "outputId": "8f082c63-021d-44d9-c831-e26dc8e307d0"
      },
      "outputs": [
        {
          "output_type": "stream",
          "name": "stdout",
          "text": [
            "Requirement already satisfied: torch>=1.0 in /usr/local/lib/python3.10/dist-packages (from -r requirements.txt (line 1)) (2.4.0+cu121)\n",
            "Requirement already satisfied: torchvision>=0.2.1 in /usr/local/lib/python3.10/dist-packages (from -r requirements.txt (line 2)) (0.19.0+cu121)\n",
            "Requirement already satisfied: tqdm in /usr/local/lib/python3.10/dist-packages (from -r requirements.txt (line 3)) (4.66.5)\n",
            "Requirement already satisfied: numpy in /usr/local/lib/python3.10/dist-packages (from -r requirements.txt (line 4)) (1.26.4)\n",
            "Collecting pydicom (from -r requirements.txt (line 5))\n",
            "  Downloading pydicom-2.4.4-py3-none-any.whl.metadata (7.8 kB)\n",
            "Collecting SimpleITK (from -r requirements.txt (line 6))\n",
            "  Downloading SimpleITK-2.4.0-cp310-cp310-manylinux_2_17_x86_64.manylinux2014_x86_64.whl.metadata (7.9 kB)\n",
            "Requirement already satisfied: Pillow in /usr/local/lib/python3.10/dist-packages (from -r requirements.txt (line 7)) (9.4.0)\n",
            "Requirement already satisfied: PyYAML in /usr/local/lib/python3.10/dist-packages (from -r requirements.txt (line 8)) (6.0.2)\n",
            "Requirement already satisfied: opencv-python in /usr/local/lib/python3.10/dist-packages (from -r requirements.txt (line 9)) (4.10.0.84)\n",
            "Collecting pygraphviz (from -r requirements.txt (line 10))\n",
            "  Downloading pygraphviz-1.13.tar.gz (104 kB)\n",
            "\u001b[2K     \u001b[90m━━━━━━━━━━━━━━━━━━━━━━━━━━━━━━━━━━━━━━━━\u001b[0m \u001b[32m104.6/104.6 kB\u001b[0m \u001b[31m5.4 MB/s\u001b[0m eta \u001b[36m0:00:00\u001b[0m\n",
            "\u001b[?25h  Installing build dependencies ... \u001b[?25l\u001b[?25hdone\n",
            "  Getting requirements to build wheel ... \u001b[?25l\u001b[?25hdone\n",
            "  Preparing metadata (pyproject.toml) ... \u001b[?25l\u001b[?25hdone\n",
            "Requirement already satisfied: graphviz in /usr/local/lib/python3.10/dist-packages (from -r requirements.txt (line 11)) (0.20.3)\n",
            "Requirement already satisfied: scipy in /usr/local/lib/python3.10/dist-packages (from -r requirements.txt (line 12)) (1.13.1)\n",
            "Requirement already satisfied: scikit-image in /usr/local/lib/python3.10/dist-packages (from -r requirements.txt (line 13)) (0.23.2)\n",
            "Collecting adabound (from -r requirements.txt (line 14))\n",
            "  Downloading adabound-0.0.5-py3-none-any.whl.metadata (4.3 kB)\n",
            "Collecting tensorboardX (from -r requirements.txt (line 15))\n",
            "  Downloading tensorboardX-2.6.2.2-py2.py3-none-any.whl.metadata (5.8 kB)\n",
            "Requirement already satisfied: filelock in /usr/local/lib/python3.10/dist-packages (from torch>=1.0->-r requirements.txt (line 1)) (3.15.4)\n",
            "Requirement already satisfied: typing-extensions>=4.8.0 in /usr/local/lib/python3.10/dist-packages (from torch>=1.0->-r requirements.txt (line 1)) (4.12.2)\n",
            "Requirement already satisfied: sympy in /usr/local/lib/python3.10/dist-packages (from torch>=1.0->-r requirements.txt (line 1)) (1.13.2)\n",
            "Requirement already satisfied: networkx in /usr/local/lib/python3.10/dist-packages (from torch>=1.0->-r requirements.txt (line 1)) (3.3)\n",
            "Requirement already satisfied: jinja2 in /usr/local/lib/python3.10/dist-packages (from torch>=1.0->-r requirements.txt (line 1)) (3.1.4)\n",
            "Requirement already satisfied: fsspec in /usr/local/lib/python3.10/dist-packages (from torch>=1.0->-r requirements.txt (line 1)) (2024.6.1)\n",
            "Requirement already satisfied: imageio>=2.33 in /usr/local/lib/python3.10/dist-packages (from scikit-image->-r requirements.txt (line 13)) (2.34.2)\n",
            "Requirement already satisfied: tifffile>=2022.8.12 in /usr/local/lib/python3.10/dist-packages (from scikit-image->-r requirements.txt (line 13)) (2024.8.24)\n",
            "Requirement already satisfied: packaging>=21 in /usr/local/lib/python3.10/dist-packages (from scikit-image->-r requirements.txt (line 13)) (24.1)\n",
            "Requirement already satisfied: lazy-loader>=0.4 in /usr/local/lib/python3.10/dist-packages (from scikit-image->-r requirements.txt (line 13)) (0.4)\n",
            "Requirement already satisfied: protobuf>=3.20 in /usr/local/lib/python3.10/dist-packages (from tensorboardX->-r requirements.txt (line 15)) (3.20.3)\n",
            "Requirement already satisfied: MarkupSafe>=2.0 in /usr/local/lib/python3.10/dist-packages (from jinja2->torch>=1.0->-r requirements.txt (line 1)) (2.1.5)\n",
            "Requirement already satisfied: mpmath<1.4,>=1.1.0 in /usr/local/lib/python3.10/dist-packages (from sympy->torch>=1.0->-r requirements.txt (line 1)) (1.3.0)\n",
            "Downloading pydicom-2.4.4-py3-none-any.whl (1.8 MB)\n",
            "\u001b[2K   \u001b[90m━━━━━━━━━━━━━━━━━━━━━━━━━━━━━━━━━━━━━━━━\u001b[0m \u001b[32m1.8/1.8 MB\u001b[0m \u001b[31m51.7 MB/s\u001b[0m eta \u001b[36m0:00:00\u001b[0m\n",
            "\u001b[?25hDownloading SimpleITK-2.4.0-cp310-cp310-manylinux_2_17_x86_64.manylinux2014_x86_64.whl (52.4 MB)\n",
            "\u001b[2K   \u001b[90m━━━━━━━━━━━━━━━━━━━━━━━━━━━━━━━━━━━━━━━━\u001b[0m \u001b[32m52.4/52.4 MB\u001b[0m \u001b[31m13.2 MB/s\u001b[0m eta \u001b[36m0:00:00\u001b[0m\n",
            "\u001b[?25hDownloading adabound-0.0.5-py3-none-any.whl (5.1 kB)\n",
            "Downloading tensorboardX-2.6.2.2-py2.py3-none-any.whl (101 kB)\n",
            "\u001b[2K   \u001b[90m━━━━━━━━━━━━━━━━━━━━━━━━━━━━━━━━━━━━━━━━\u001b[0m \u001b[32m101.7/101.7 kB\u001b[0m \u001b[31m8.1 MB/s\u001b[0m eta \u001b[36m0:00:00\u001b[0m\n",
            "\u001b[?25hBuilding wheels for collected packages: pygraphviz\n",
            "  \u001b[1;31merror\u001b[0m: \u001b[1msubprocess-exited-with-error\u001b[0m\n",
            "  \n",
            "  \u001b[31m×\u001b[0m \u001b[32mBuilding wheel for pygraphviz \u001b[0m\u001b[1;32m(\u001b[0m\u001b[32mpyproject.toml\u001b[0m\u001b[1;32m)\u001b[0m did not run successfully.\n",
            "  \u001b[31m│\u001b[0m exit code: \u001b[1;36m1\u001b[0m\n",
            "  \u001b[31m╰─>\u001b[0m See above for output.\n",
            "  \n",
            "  \u001b[1;35mnote\u001b[0m: This error originates from a subprocess, and is likely not a problem with pip.\n",
            "  Building wheel for pygraphviz (pyproject.toml) ... \u001b[?25l\u001b[?25herror\n",
            "\u001b[31m  ERROR: Failed building wheel for pygraphviz\u001b[0m\u001b[31m\n",
            "\u001b[0mFailed to build pygraphviz\n",
            "\u001b[31mERROR: ERROR: Failed to build installable wheels for some pyproject.toml based projects (pygraphviz)\u001b[0m\u001b[31m\n",
            "\u001b[0m"
          ]
        }
      ],
      "source": [
        "%pip install -r requirements.txt"
      ]
    },
    {
      "cell_type": "code",
      "execution_count": 4,
      "metadata": {
        "colab": {
          "base_uri": "https://localhost:8080/"
        },
        "id": "wepN74DNNTpN",
        "outputId": "6105185c-cc64-481d-9faa-99f0c3d9dc80"
      },
      "outputs": [
        {
          "output_type": "stream",
          "name": "stdout",
          "text": [
            "Reading package lists... Done\n",
            "Building dependency tree... Done\n",
            "Reading state information... Done\n",
            "graphviz is already the newest version (2.42.2-6ubuntu0.1).\n",
            "The following packages were automatically installed and are no longer required:\n",
            "  libbz2-dev libpkgconf3 libreadline-dev\n",
            "Use 'apt autoremove' to remove them.\n",
            "The following additional packages will be installed:\n",
            "  libgail-common libgail18 libgtk2.0-0 libgtk2.0-bin libgtk2.0-common libgvc6-plugins-gtk\n",
            "  librsvg2-common libxdot4\n",
            "Suggested packages:\n",
            "  gvfs\n",
            "The following packages will be REMOVED:\n",
            "  pkgconf r-base-dev\n",
            "The following NEW packages will be installed:\n",
            "  libgail-common libgail18 libgraphviz-dev libgtk2.0-0 libgtk2.0-bin libgtk2.0-common\n",
            "  libgvc6-plugins-gtk librsvg2-common libxdot4 pkg-config\n",
            "0 upgraded, 10 newly installed, 2 to remove and 49 not upgraded.\n",
            "Need to get 2,482 kB of archives.\n",
            "After this operation, 7,670 kB of additional disk space will be used.\n",
            "Get:1 http://archive.ubuntu.com/ubuntu jammy/main amd64 pkg-config amd64 0.29.2-1ubuntu3 [48.2 kB]\n",
            "Get:2 http://archive.ubuntu.com/ubuntu jammy-updates/main amd64 libgtk2.0-common all 2.24.33-2ubuntu2.1 [125 kB]\n",
            "Get:3 http://archive.ubuntu.com/ubuntu jammy-updates/main amd64 libgtk2.0-0 amd64 2.24.33-2ubuntu2.1 [2,038 kB]\n",
            "Get:4 http://archive.ubuntu.com/ubuntu jammy-updates/main amd64 libgail18 amd64 2.24.33-2ubuntu2.1 [15.9 kB]\n",
            "Get:5 http://archive.ubuntu.com/ubuntu jammy-updates/main amd64 libgail-common amd64 2.24.33-2ubuntu2.1 [132 kB]\n",
            "Get:6 http://archive.ubuntu.com/ubuntu jammy-updates/universe amd64 libxdot4 amd64 2.42.2-6ubuntu0.1 [16.4 kB]\n",
            "Get:7 http://archive.ubuntu.com/ubuntu jammy-updates/universe amd64 libgvc6-plugins-gtk amd64 2.42.2-6ubuntu0.1 [22.5 kB]\n",
            "Get:8 http://archive.ubuntu.com/ubuntu jammy-updates/universe amd64 libgraphviz-dev amd64 2.42.2-6ubuntu0.1 [58.5 kB]\n",
            "Get:9 http://archive.ubuntu.com/ubuntu jammy-updates/main amd64 libgtk2.0-bin amd64 2.24.33-2ubuntu2.1 [7,936 B]\n",
            "Get:10 http://archive.ubuntu.com/ubuntu jammy-updates/main amd64 librsvg2-common amd64 2.52.5+dfsg-3ubuntu0.2 [17.7 kB]\n",
            "Fetched 2,482 kB in 0s (16.1 MB/s)\n",
            "(Reading database ... 123597 files and directories currently installed.)\n",
            "Removing r-base-dev (4.4.1-1.2204.0) ...\n",
            "dpkg: pkgconf: dependency problems, but removing anyway as you requested:\n",
            " libsndfile1-dev:amd64 depends on pkg-config; however:\n",
            "  Package pkg-config is not installed.\n",
            "  Package pkgconf which provides pkg-config is to be removed.\n",
            " libopencv-dev depends on pkg-config; however:\n",
            "  Package pkg-config is not installed.\n",
            "  Package pkgconf which provides pkg-config is to be removed.\n",
            " libmkl-dev:amd64 depends on pkg-config; however:\n",
            "  Package pkg-config is not installed.\n",
            "  Package pkgconf which provides pkg-config is to be removed.\n",
            " libjack-dev depends on pkg-config; however:\n",
            "  Package pkg-config is not installed.\n",
            "  Package pkgconf which provides pkg-config is to be removed.\n",
            " libgphoto2-dev:amd64 depends on pkg-config; however:\n",
            "  Package pkg-config is not installed.\n",
            "  Package pkgconf which provides pkg-config is to be removed.\n",
            " libfontconfig-dev:amd64 depends on pkg-config; however:\n",
            "  Package pkg-config is not installed.\n",
            "  Package pkgconf which provides pkg-config is to be removed.\n",
            "\n",
            "Removing pkgconf (1.8.0-1) ...\n",
            "Removing 'diversion of /usr/bin/pkg-config to /usr/bin/pkg-config.real by pkgconf'\n",
            "Removing 'diversion of /usr/share/aclocal/pkg.m4 to /usr/share/aclocal/pkg.real.m4 by pkgconf'\n",
            "Removing 'diversion of /usr/share/man/man1/pkg-config.1.gz to /usr/share/man/man1/pkg-config.real.1.gz by pkgconf'\n",
            "Removing 'diversion of /usr/share/pkg-config-crosswrapper to /usr/share/pkg-config-crosswrapper.real by pkgconf'\n",
            "Selecting previously unselected package pkg-config.\n",
            "(Reading database ... 123573 files and directories currently installed.)\n",
            "Preparing to unpack .../0-pkg-config_0.29.2-1ubuntu3_amd64.deb ...\n",
            "Unpacking pkg-config (0.29.2-1ubuntu3) ...\n",
            "Selecting previously unselected package libgtk2.0-common.\n",
            "Preparing to unpack .../1-libgtk2.0-common_2.24.33-2ubuntu2.1_all.deb ...\n",
            "Unpacking libgtk2.0-common (2.24.33-2ubuntu2.1) ...\n",
            "Selecting previously unselected package libgtk2.0-0:amd64.\n",
            "Preparing to unpack .../2-libgtk2.0-0_2.24.33-2ubuntu2.1_amd64.deb ...\n",
            "Unpacking libgtk2.0-0:amd64 (2.24.33-2ubuntu2.1) ...\n",
            "Selecting previously unselected package libgail18:amd64.\n",
            "Preparing to unpack .../3-libgail18_2.24.33-2ubuntu2.1_amd64.deb ...\n",
            "Unpacking libgail18:amd64 (2.24.33-2ubuntu2.1) ...\n",
            "Selecting previously unselected package libgail-common:amd64.\n",
            "Preparing to unpack .../4-libgail-common_2.24.33-2ubuntu2.1_amd64.deb ...\n",
            "Unpacking libgail-common:amd64 (2.24.33-2ubuntu2.1) ...\n",
            "Selecting previously unselected package libxdot4:amd64.\n",
            "Preparing to unpack .../5-libxdot4_2.42.2-6ubuntu0.1_amd64.deb ...\n",
            "Unpacking libxdot4:amd64 (2.42.2-6ubuntu0.1) ...\n",
            "Selecting previously unselected package libgvc6-plugins-gtk.\n",
            "Preparing to unpack .../6-libgvc6-plugins-gtk_2.42.2-6ubuntu0.1_amd64.deb ...\n",
            "Unpacking libgvc6-plugins-gtk (2.42.2-6ubuntu0.1) ...\n",
            "Selecting previously unselected package libgraphviz-dev:amd64.\n",
            "Preparing to unpack .../7-libgraphviz-dev_2.42.2-6ubuntu0.1_amd64.deb ...\n",
            "Unpacking libgraphviz-dev:amd64 (2.42.2-6ubuntu0.1) ...\n",
            "Selecting previously unselected package libgtk2.0-bin.\n",
            "Preparing to unpack .../8-libgtk2.0-bin_2.24.33-2ubuntu2.1_amd64.deb ...\n",
            "Unpacking libgtk2.0-bin (2.24.33-2ubuntu2.1) ...\n",
            "Selecting previously unselected package librsvg2-common:amd64.\n",
            "Preparing to unpack .../9-librsvg2-common_2.52.5+dfsg-3ubuntu0.2_amd64.deb ...\n",
            "Unpacking librsvg2-common:amd64 (2.52.5+dfsg-3ubuntu0.2) ...\n",
            "Setting up libxdot4:amd64 (2.42.2-6ubuntu0.1) ...\n",
            "Setting up pkg-config (0.29.2-1ubuntu3) ...\n",
            "Setting up librsvg2-common:amd64 (2.52.5+dfsg-3ubuntu0.2) ...\n",
            "Setting up libgtk2.0-common (2.24.33-2ubuntu2.1) ...\n",
            "Setting up libgtk2.0-0:amd64 (2.24.33-2ubuntu2.1) ...\n",
            "Setting up libgvc6-plugins-gtk (2.42.2-6ubuntu0.1) ...\n",
            "Setting up libgail18:amd64 (2.24.33-2ubuntu2.1) ...\n",
            "Setting up libgtk2.0-bin (2.24.33-2ubuntu2.1) ...\n",
            "Setting up libgail-common:amd64 (2.24.33-2ubuntu2.1) ...\n",
            "Setting up libgraphviz-dev:amd64 (2.42.2-6ubuntu0.1) ...\n",
            "Processing triggers for libc-bin (2.35-0ubuntu3.4) ...\n",
            "/sbin/ldconfig.real: /usr/local/lib/libtbbmalloc_proxy.so.2 is not a symbolic link\n",
            "\n",
            "/sbin/ldconfig.real: /usr/local/lib/libtbbmalloc.so.2 is not a symbolic link\n",
            "\n",
            "/sbin/ldconfig.real: /usr/local/lib/libtbbbind_2_5.so.3 is not a symbolic link\n",
            "\n",
            "/sbin/ldconfig.real: /usr/local/lib/libtbbbind.so.3 is not a symbolic link\n",
            "\n",
            "/sbin/ldconfig.real: /usr/local/lib/libur_loader.so.0 is not a symbolic link\n",
            "\n",
            "/sbin/ldconfig.real: /usr/local/lib/libtbb.so.12 is not a symbolic link\n",
            "\n",
            "/sbin/ldconfig.real: /usr/local/lib/libur_adapter_opencl.so.0 is not a symbolic link\n",
            "\n",
            "/sbin/ldconfig.real: /usr/local/lib/libtbbbind_2_0.so.3 is not a symbolic link\n",
            "\n",
            "/sbin/ldconfig.real: /usr/local/lib/libur_adapter_level_zero.so.0 is not a symbolic link\n",
            "\n",
            "Processing triggers for man-db (2.10.2-1) ...\n",
            "Processing triggers for libgdk-pixbuf-2.0-0:amd64 (2.42.8+dfsg-1ubuntu0.3) ...\n"
          ]
        }
      ],
      "source": [
        "!apt-get install graphviz libgraphviz-dev pkg-config"
      ]
    },
    {
      "cell_type": "code",
      "execution_count": 5,
      "metadata": {
        "colab": {
          "base_uri": "https://localhost:8080/"
        },
        "id": "hL74UYVaNZBw",
        "outputId": "013bc2de-d8b2-4ad9-d828-a596321cb694"
      },
      "outputs": [
        {
          "output_type": "stream",
          "name": "stdout",
          "text": [
            "Collecting pygraphviz\n",
            "  Using cached pygraphviz-1.13.tar.gz (104 kB)\n",
            "  Installing build dependencies ... \u001b[?25l\u001b[?25hdone\n",
            "  Getting requirements to build wheel ... \u001b[?25l\u001b[?25hdone\n",
            "  Preparing metadata (pyproject.toml) ... \u001b[?25l\u001b[?25hdone\n",
            "Building wheels for collected packages: pygraphviz\n",
            "  Building wheel for pygraphviz (pyproject.toml) ... \u001b[?25l\u001b[?25hdone\n",
            "  Created wheel for pygraphviz: filename=pygraphviz-1.13-cp310-cp310-linux_x86_64.whl size=168495 sha256=caa525677b6ff9b678a2b445c40c3e1fc4e48cf0a78f7d3f61f3cb7d954954f8\n",
            "  Stored in directory: /root/.cache/pip/wheels/c5/96/10/6c25add1fffc368b1927252bf73b63fcb938de8f4486e23691\n",
            "Successfully built pygraphviz\n",
            "Installing collected packages: pygraphviz\n",
            "Successfully installed pygraphviz-1.13\n"
          ]
        }
      ],
      "source": [
        "!pip install pygraphviz"
      ]
    },
    {
      "cell_type": "code",
      "execution_count": 6,
      "metadata": {
        "colab": {
          "base_uri": "https://localhost:8080/"
        },
        "id": "DPjd9y87Napg",
        "outputId": "5e7a896e-4a78-42d4-892e-dfeaca8955eb"
      },
      "outputs": [
        {
          "output_type": "stream",
          "name": "stdout",
          "text": [
            "Collecting SimpleITK\n",
            "  Using cached SimpleITK-2.4.0-cp310-cp310-manylinux_2_17_x86_64.manylinux2014_x86_64.whl.metadata (7.9 kB)\n",
            "Using cached SimpleITK-2.4.0-cp310-cp310-manylinux_2_17_x86_64.manylinux2014_x86_64.whl (52.4 MB)\n",
            "Installing collected packages: SimpleITK\n",
            "Successfully installed SimpleITK-2.4.0\n",
            "Collecting pydicom\n",
            "  Using cached pydicom-2.4.4-py3-none-any.whl.metadata (7.8 kB)\n",
            "Using cached pydicom-2.4.4-py3-none-any.whl (1.8 MB)\n",
            "Installing collected packages: pydicom\n",
            "Successfully installed pydicom-2.4.4\n",
            "Collecting adabound\n",
            "  Using cached adabound-0.0.5-py3-none-any.whl.metadata (4.3 kB)\n",
            "Requirement already satisfied: torch>=0.4.0 in /usr/local/lib/python3.10/dist-packages (from adabound) (2.4.0+cu121)\n",
            "Requirement already satisfied: filelock in /usr/local/lib/python3.10/dist-packages (from torch>=0.4.0->adabound) (3.15.4)\n",
            "Requirement already satisfied: typing-extensions>=4.8.0 in /usr/local/lib/python3.10/dist-packages (from torch>=0.4.0->adabound) (4.12.2)\n",
            "Requirement already satisfied: sympy in /usr/local/lib/python3.10/dist-packages (from torch>=0.4.0->adabound) (1.13.2)\n",
            "Requirement already satisfied: networkx in /usr/local/lib/python3.10/dist-packages (from torch>=0.4.0->adabound) (3.3)\n",
            "Requirement already satisfied: jinja2 in /usr/local/lib/python3.10/dist-packages (from torch>=0.4.0->adabound) (3.1.4)\n",
            "Requirement already satisfied: fsspec in /usr/local/lib/python3.10/dist-packages (from torch>=0.4.0->adabound) (2024.6.1)\n",
            "Requirement already satisfied: MarkupSafe>=2.0 in /usr/local/lib/python3.10/dist-packages (from jinja2->torch>=0.4.0->adabound) (2.1.5)\n",
            "Requirement already satisfied: mpmath<1.4,>=1.1.0 in /usr/local/lib/python3.10/dist-packages (from sympy->torch>=0.4.0->adabound) (1.3.0)\n",
            "Using cached adabound-0.0.5-py3-none-any.whl (5.1 kB)\n",
            "Installing collected packages: adabound\n",
            "Successfully installed adabound-0.0.5\n",
            "Collecting tensorboardX\n",
            "  Using cached tensorboardX-2.6.2.2-py2.py3-none-any.whl.metadata (5.8 kB)\n",
            "Requirement already satisfied: numpy in /usr/local/lib/python3.10/dist-packages (from tensorboardX) (1.26.4)\n",
            "Requirement already satisfied: packaging in /usr/local/lib/python3.10/dist-packages (from tensorboardX) (24.1)\n",
            "Requirement already satisfied: protobuf>=3.20 in /usr/local/lib/python3.10/dist-packages (from tensorboardX) (3.20.3)\n",
            "Using cached tensorboardX-2.6.2.2-py2.py3-none-any.whl (101 kB)\n",
            "Installing collected packages: tensorboardX\n",
            "Successfully installed tensorboardX-2.6.2.2\n"
          ]
        }
      ],
      "source": [
        "!pip install SimpleITK\n",
        "\n",
        "!pip install pydicom\n",
        "\n",
        "!pip install adabound\n",
        "\n",
        "!pip install tensorboardX"
      ]
    },
    {
      "cell_type": "code",
      "execution_count": 7,
      "metadata": {
        "colab": {
          "base_uri": "https://localhost:8080/"
        },
        "id": "eeN88JPeSS1r",
        "outputId": "cfbb3d22-8610-458c-a3c5-0a12f57dded1"
      },
      "outputs": [
        {
          "output_type": "stream",
          "name": "stdout",
          "text": [
            "Mounted at /content/drive\n"
          ]
        }
      ],
      "source": [
        "from google.colab import drive\n",
        "drive.mount('/content/drive')"
      ]
    },
    {
      "cell_type": "code",
      "execution_count": 8,
      "metadata": {
        "colab": {
          "base_uri": "https://localhost:8080/",
          "height": 36
        },
        "id": "JlgBm_zxUbVY",
        "outputId": "e2fc1d2e-0017-4a1d-845d-17121ce234eb"
      },
      "outputs": [
        {
          "output_type": "execute_result",
          "data": {
            "text/plain": [
              "'/content/NasUnet'"
            ],
            "application/vnd.google.colaboratory.intrinsic+json": {
              "type": "string"
            }
          },
          "metadata": {},
          "execution_count": 8
        }
      ],
      "source": [
        "%pwd"
      ]
    },
    {
      "cell_type": "code",
      "execution_count": 9,
      "metadata": {
        "colab": {
          "base_uri": "https://localhost:8080/"
        },
        "id": "NPrqyCnjUhmC",
        "outputId": "94509505-9d3e-4b8d-c4b7-f9193505d811"
      },
      "outputs": [
        {
          "output_type": "stream",
          "name": "stdout",
          "text": [
            "\u001b[0m\u001b[01;34m3rd_tools\u001b[0m/  \u001b[01;34mexperiment\u001b[0m/  \u001b[01;34mmodels\u001b[0m/    requirements.txt  \u001b[01;34mtest\u001b[0m/   \u001b[01;34mutil\u001b[0m/\n",
            "\u001b[01;34mconfigs\u001b[0m/    \u001b[01;34mimgs\u001b[0m/        README.md  \u001b[01;34msearch\u001b[0m/           \u001b[01;34mtools\u001b[0m/\n"
          ]
        }
      ],
      "source": [
        "ls"
      ]
    },
    {
      "cell_type": "code",
      "execution_count": 10,
      "metadata": {
        "colab": {
          "base_uri": "https://localhost:8080/"
        },
        "id": "Ejy3owBQNmnA",
        "outputId": "0dcc6b23-5597-421c-fe85-9ef4bb135492"
      },
      "outputs": [
        {
          "output_type": "stream",
          "name": "stdout",
          "text": [
            "/content/NasUnet/experiment\n",
            "/content/NasUnet/experiment/../util/loss/loss.py:31: SyntaxWarning: \"is\" with a literal. Did you mean \"==\"?\n",
            "  if self.aux_weight is 0 or self.aux_weight == None:\n",
            "load configure file at ../configs/nas_unet/nas_unet_voc.yml\n",
            "Usage model :nasunet\n",
            "Experiment dir: ../logs/nasunet/train/pascal_voc/20240901-151437\n",
            "RUNDIR: ../logs/nasunet/train/pascal_voc/20240901-151437\n",
            "09/01 03:14:37 PM nasunet-Train\n",
            "BaseDataset: crop_size 256\n",
            "2913it [01:05, 44.53it/s] \n",
            "1449it [00:01, 1291.30it/s]\n",
            "dataset weights: None\n",
            "Using loss: cross_entropy\n",
            "09/01 03:15:45 PM Using loss SegmentationLosses()\n",
            "This model does not need pretrained backbone\n",
            "09/01 03:15:45 PM Initialize the model weights: kaiming_uniform\n",
            "09/01 03:15:45 PM gpu device = 0\n",
            "09/01 03:15:45 PM param size = 1.140528MB\n",
            "09/01 03:15:45 PM Using sgd optimizer\n",
            "09/01 03:15:45 PM Using model optimizer SGD (\n",
            "Parameter Group 0\n",
            "    dampening: 0\n",
            "    differentiable: False\n",
            "    foreach: None\n",
            "    fused: None\n",
            "    lr: 0.05\n",
            "    maximize: False\n",
            "    momentum: 0\n",
            "    nesterov: False\n",
            "    weight_decay: 0.0001\n",
            ")\n",
            "09/01 03:15:45 PM Using poly_lr scheduler with {'max_iter': 5, 'last_epoch': -1} params\n",
            "09/01 03:15:45 PM args = {'model': {'arch': 'nas-unet'}, 'data': {'dataset': 'pascal_voc', 'train_split': 'train_aug', 'split': 'val', 'img_rows': 'same', 'img_cols': 'same'}, 'searching': {'init_channels': 16, 'depth': 4, 'epoch': 5, 'batch_size': 6, 'report_freq': 20, 'n_workers': 2, 'alpha_begin': 10, 'max_patience': 40, 'gpu': True, 'multi_gpus': True, 'sharing_normal': True, 'double_down_channel': False, 'meta_node_num': 3, 'grad_clip': 5, 'train_portion': 0.5, 'model_optimizer': {'name': 'adabound', 'lr': 0.001, 'weight_decay': 0.0005}, 'arch_optimizer': {'name': 'adam', 'lr': 0.0003, 'weight_decay': 0.005}, 'loss': {'name': 'cross_entropy', 'size_average': False, 'aux_weight': None}, 'resume': None}, 'training': {'geno_type': 'NASUNET', 'init_channels': 48, 'depth': 5, 'epoch': 5, 'batch_size': 8, 'report_freq': 50, 'n_workers': 2, 'multi_gpus': False, 'double_down_channel': False, 'grad_clip': 3, 'max_patience': 20, 'model_optimizer': {'name': 'sgd', 'lr': 0.05, 'weight_decay': 0.0001}, 'loss': {'name': 'cross_entropy', 'aux_weight': 0.2}, 'backbone': None, 'lr_schedule': {'name': 'poly_lr', 'max_iter': 100}, 'resume': None}}\n",
            "/usr/local/lib/python3.10/dist-packages/torch/optim/lr_scheduler.py:216: UserWarning: Detected call of `lr_scheduler.step()` before `optimizer.step()`. In PyTorch 1.1.0 and later, you should call them in the opposite order: `optimizer.step()` before `lr_scheduler.step()`.  Failure to do this will result in PyTorch skipping the first value of the learning rate schedule. See more details at https://pytorch.org/docs/stable/optim.html#how-to-adjust-learning-rate\n",
            "  warnings.warn(\n",
            "09/01 03:15:45 PM => Epoch 0, lr 0.05\n",
            "  0% 0/364 [00:00<?, ?it/s]09/01 03:16:04 PM train loss 000 5.011160e+00 | epoch [0] / [5]\n",
            "09/01 03:16:04 PM pixAcc: 0.04404258728027344,  mIoU: 0.008570798410647843\n",
            "train loss: 5.011160; pixAcc: 0.044; mIoU 0.008571:  14% 50/364 [03:15<16:34,  3.17s/it]09/01 03:19:08 PM train loss 050 2.420271e+00 | epoch [0] / [5]\n",
            "09/01 03:19:08 PM pixAcc: 0.632966022865445,  mIoU: 0.03561241657391529\n",
            "train loss: 2.420271; pixAcc: 0.633; mIoU 0.035612:  27% 100/364 [06:26<16:06,  3.66s/it]09/01 03:22:16 PM train loss 100 2.192834e+00 | epoch [0] / [5]\n",
            "09/01 03:22:16 PM pixAcc: 0.6515798285455987,  mIoU: 0.035823283334044345\n",
            "train loss: 2.192834; pixAcc: 0.652; mIoU 0.035823:  41% 150/364 [09:37<12:08,  3.40s/it]09/01 03:25:30 PM train loss 150 2.095298e+00 | epoch [0] / [5]\n",
            "09/01 03:25:30 PM pixAcc: 0.6590483709676376,  mIoU: 0.03623475158518463\n",
            "train loss: 2.095298; pixAcc: 0.659; mIoU 0.036235:  55% 200/364 [12:51<08:39,  3.17s/it]09/01 03:28:44 PM train loss 200 2.017263e+00 | epoch [0] / [5]\n",
            "09/01 03:28:44 PM pixAcc: 0.668453909271392,  mIoU: 0.03634482704232501\n",
            "train loss: 2.017263; pixAcc: 0.668; mIoU 0.036345:  69% 250/364 [16:02<05:52,  3.09s/it]09/01 03:31:55 PM train loss 250 1.968831e+00 | epoch [0] / [5]\n",
            "09/01 03:31:55 PM pixAcc: 0.6728353690341174,  mIoU: 0.03629069033822976\n",
            "train loss: 1.968831; pixAcc: 0.673; mIoU 0.036291:  82% 300/364 [19:12<03:40,  3.45s/it]09/01 03:35:03 PM train loss 300 1.935429e+00 | epoch [0] / [5]\n",
            "09/01 03:35:03 PM pixAcc: 0.6751552847928779,  mIoU: 0.036264573568948244\n",
            "train loss: 1.935429; pixAcc: 0.675; mIoU 0.036265:  96% 350/364 [22:22<00:45,  3.22s/it]09/01 03:38:15 PM train loss 350 1.895309e+00 | epoch [0] / [5]\n",
            "09/01 03:38:15 PM pixAcc: 0.6792536189413478,  mIoU: 0.036484014018218706\n",
            "train loss: 1.895309; pixAcc: 0.679; mIoU 0.036484: 100% 364/364 [23:15<00:00,  3.83s/it]\n",
            "  0% 0/182 [00:00<?, ?it/s]09/01 03:39:01 PM val loss: 2.786966323852539, pixAcc: 0.4600791931152344, mIoU: 0.023027299407497648\n",
            "val loss: 2.786966, pixAcc: 0.460, mIoU: 0.023027:  27% 50/182 [00:08<00:18,  7.17it/s]09/01 03:39:09 PM val loss: 2.070714793953241, pixAcc: 0.613472209257238, mIoU: 0.0310261184226171\n",
            "val loss: 2.070715, pixAcc: 0.613, mIoU: 0.031026:  55% 100/182 [00:16<00:11,  6.94it/s]09/01 03:39:18 PM val loss: 2.115338441168908, pixAcc: 0.6110464794801014, mIoU: 0.03095363766775681\n",
            "val loss: 2.115338, pixAcc: 0.611, mIoU: 0.030954:  82% 150/182 [00:23<00:04,  7.29it/s]09/01 03:39:25 PM val loss: 2.178897612142247, pixAcc: 0.601795461793609, mIoU: 0.0306672118085733\n",
            "val loss: 2.178898, pixAcc: 0.602, mIoU: 0.030667: 100% 182/182 [00:30<00:00,  6.02it/s]\n",
            "09/01 03:39:31 PM current best loss 1.0, pixAcc 0.6028649834948132, mIoU 0.030675458903875786\n",
            "09/01 03:39:31 PM save checkpoint (epoch 0) in ../logs/nasunet/train/pascal_voc/20240901-151437  dur_time: {'day': 0.0, 'hour': 0.0, 'minute': 23.0, 'second': 45}\n",
            "09/01 03:39:31 PM current patience :0\n",
            "09/01 03:39:31 PM cost time: {'day': 0.0, 'hour': 0.0, 'minute': 23.0, 'second': 45}\n",
            "09/01 03:39:31 PM => Epoch 1, lr 0.05\n",
            "  0% 0/364 [00:00<?, ?it/s]09/01 03:39:32 PM train loss 000 1.324087e+00 | epoch [1] / [5]\n",
            "09/01 03:39:32 PM pixAcc: 0.7691116333007812,  mIoU: 0.03846042325579621\n",
            "train loss: 1.324087; pixAcc: 0.769; mIoU 0.038460:  14% 50/364 [00:17<01:45,  2.98it/s]09/01 03:39:49 PM train loss 050 1.737119e+00 | epoch [1] / [5]\n",
            "09/01 03:39:49 PM pixAcc: 0.682551851459578,  mIoU: 0.03704032009854324\n",
            "train loss: 1.737119; pixAcc: 0.683; mIoU 0.037040:  27% 100/364 [00:34<01:27,  3.01it/s]09/01 03:40:06 PM train loss 100 1.694786e+00 | epoch [1] / [5]\n",
            "09/01 03:40:06 PM pixAcc: 0.6889933784409324,  mIoU: 0.03749720812550485\n",
            "train loss: 1.694786; pixAcc: 0.689; mIoU 0.037497:  41% 150/364 [00:52<01:11,  3.01it/s]09/01 03:40:24 PM train loss 150 1.710685e+00 | epoch [1] / [5]\n",
            "09/01 03:40:24 PM pixAcc: 0.6856758926088447,  mIoU: 0.03686284327434716\n",
            "train loss: 1.710685; pixAcc: 0.686; mIoU 0.036863:  55% 200/364 [01:09<01:01,  2.66it/s]09/01 03:40:41 PM train loss 200 1.698733e+00 | epoch [1] / [5]\n",
            "09/01 03:40:41 PM pixAcc: 0.6869495069209616,  mIoU: 0.036862799694278005\n",
            "train loss: 1.698733; pixAcc: 0.687; mIoU 0.036863:  69% 250/364 [01:27<00:44,  2.58it/s]09/01 03:40:59 PM train loss 250 1.692683e+00 | epoch [1] / [5]\n",
            "09/01 03:40:59 PM pixAcc: 0.6884766840839766,  mIoU: 0.036898317968889024\n",
            "train loss: 1.692683; pixAcc: 0.688; mIoU 0.036898:  82% 300/364 [01:44<00:21,  2.99it/s]09/01 03:41:16 PM train loss 300 1.691309e+00 | epoch [1] / [5]\n",
            "09/01 03:41:16 PM pixAcc: 0.6893221135947395,  mIoU: 0.03683347851581607\n",
            "train loss: 1.691309; pixAcc: 0.689; mIoU 0.036833:  96% 350/364 [02:01<00:04,  2.96it/s]09/01 03:41:33 PM train loss 350 1.694480e+00 | epoch [1] / [5]\n",
            "09/01 03:41:33 PM pixAcc: 0.6888687916291065,  mIoU: 0.0367539959273954\n",
            "train loss: 1.694480; pixAcc: 0.689; mIoU 0.036754: 100% 364/364 [02:06<00:00,  2.88it/s]\n",
            "  0% 0/182 [00:00<?, ?it/s]09/01 03:41:38 PM val loss: 2.703162670135498, pixAcc: 0.45948219299316406, mIoU: 0.02353715064271266\n",
            "val loss: 2.703163, pixAcc: 0.459, mIoU: 0.023537:  27% 50/182 [00:08<00:18,  7.08it/s]09/01 03:41:47 PM val loss: 2.0169243368447995, pixAcc: 0.6104947258444393, mIoU: 0.03268102290188524\n",
            "val loss: 2.016924, pixAcc: 0.610, mIoU: 0.032681:  55% 100/182 [00:16<00:16,  5.10it/s]09/01 03:41:54 PM val loss: 2.0543527355288513, pixAcc: 0.6081946155812481, mIoU: 0.03263741540400107\n",
            "val loss: 2.054353, pixAcc: 0.608, mIoU: 0.032637:  82% 150/182 [00:24<00:04,  7.04it/s]09/01 03:42:02 PM val loss: 2.0787291921527182, pixAcc: 0.5982565216670762, mIoU: 0.03255819068774643\n",
            "val loss: 2.078729, pixAcc: 0.598, mIoU: 0.032558: 100% 182/182 [00:29<00:00,  6.21it/s]\n",
            "09/01 03:42:07 PM current best loss 1.0, pixAcc 0.6028649834948132, mIoU 0.03354486165209631\n",
            "09/01 03:42:07 PM save checkpoint (epoch 1) in ../logs/nasunet/train/pascal_voc/20240901-151437  dur_time: {'day': 0.0, 'hour': 0.0, 'minute': 26.0, 'second': 21}\n",
            "09/01 03:42:07 PM current patience :0\n",
            "09/01 03:42:07 PM cost time: {'day': 0.0, 'hour': 0.0, 'minute': 26.0, 'second': 21}\n",
            "09/01 03:42:07 PM => Epoch 2, lr 0.05\n",
            "  0% 0/364 [00:00<?, ?it/s]09/01 03:42:08 PM train loss 000 1.260151e+00 | epoch [2] / [5]\n",
            "09/01 03:42:08 PM pixAcc: 0.8730964660644531,  mIoU: 0.0455744506861908\n",
            "train loss: 1.260151; pixAcc: 0.873; mIoU 0.045574:  14% 50/364 [00:17<02:00,  2.61it/s]09/01 03:42:25 PM train loss 050 1.733856e+00 | epoch [2] / [5]\n",
            "09/01 03:42:25 PM pixAcc: 0.677613426657284,  mIoU: 0.0361526490302259\n",
            "train loss: 1.733856; pixAcc: 0.678; mIoU 0.036153:  27% 100/364 [00:35<01:36,  2.75it/s]09/01 03:42:43 PM train loss 100 1.695887e+00 | epoch [2] / [5]\n",
            "09/01 03:42:43 PM pixAcc: 0.6867636501198948,  mIoU: 0.03661431259803301\n",
            "train loss: 1.695887; pixAcc: 0.687; mIoU 0.036614:  41% 150/364 [00:53<01:11,  2.98it/s]09/01 03:43:01 PM train loss 150 1.682943e+00 | epoch [2] / [5]\n",
            "09/01 03:43:01 PM pixAcc: 0.6874872043432779,  mIoU: 0.03651445537455973\n",
            "train loss: 1.682943; pixAcc: 0.687; mIoU 0.036514:  55% 200/364 [01:10<00:54,  2.98it/s]09/01 03:43:18 PM train loss 200 1.669914e+00 | epoch [2] / [5]\n",
            "09/01 03:43:18 PM pixAcc: 0.6895305197037275,  mIoU: 0.036901316100576724\n",
            "train loss: 1.669914; pixAcc: 0.690; mIoU 0.036901:  69% 250/364 [01:28<00:38,  2.99it/s]09/01 03:43:35 PM train loss 250 1.659342e+00 | epoch [2] / [5]\n",
            "09/01 03:43:35 PM pixAcc: 0.6915187683713389,  mIoU: 0.03678979052480412\n",
            "train loss: 1.659342; pixAcc: 0.692; mIoU 0.036790:  82% 300/364 [01:45<00:23,  2.71it/s]09/01 03:43:53 PM train loss 300 1.656608e+00 | epoch [2] / [5]\n",
            "09/01 03:43:53 PM pixAcc: 0.6909771092310301,  mIoU: 0.03669534783397573\n",
            "train loss: 1.656608; pixAcc: 0.691; mIoU 0.036695:  96% 350/364 [02:03<00:05,  2.53it/s]09/01 03:44:11 PM train loss 350 1.661625e+00 | epoch [2] / [5]\n",
            "09/01 03:44:11 PM pixAcc: 0.6898467778480291,  mIoU: 0.03670913902885678\n",
            "train loss: 1.661625; pixAcc: 0.690; mIoU 0.036709: 100% 364/364 [02:08<00:00,  2.84it/s]\n",
            "  0% 0/182 [00:00<?, ?it/s]09/01 03:44:16 PM val loss: 2.6714062690734863, pixAcc: 0.45892333984375, mIoU: 0.023355683226132382\n",
            "val loss: 2.671406, pixAcc: 0.459, mIoU: 0.023356:  27% 50/182 [00:08<00:28,  4.66it/s]09/01 03:44:24 PM val loss: 1.935379939920762, pixAcc: 0.6140723134957108, mIoU: 0.034450349677452696\n",
            "val loss: 1.935380, pixAcc: 0.614, mIoU: 0.034450:  55% 100/182 [00:16<00:11,  7.05it/s]09/01 03:44:31 PM val loss: 1.9921219360710372, pixAcc: 0.6107451750500368, mIoU: 0.03379409030969471\n",
            "val loss: 1.992122, pixAcc: 0.611, mIoU: 0.033794:  82% 150/182 [00:24<00:06,  4.81it/s]09/01 03:44:40 PM val loss: 2.0256069701238975, pixAcc: 0.6005833354217327, mIoU: 0.03307943670541673\n",
            "val loss: 2.025607, pixAcc: 0.601, mIoU: 0.033079: 100% 182/182 [00:29<00:00,  6.24it/s]\n",
            "09/01 03:44:45 PM current best loss 1.0, pixAcc 0.6028649834948132, mIoU 0.03354486165209631\n",
            "09/01 03:44:45 PM current patience :1\n",
            "09/01 03:44:45 PM cost time: {'day': 0.0, 'hour': 0.0, 'minute': 28.0, 'second': 59}\n",
            "09/01 03:44:45 PM => Epoch 3, lr 0.05\n",
            "  0% 0/364 [00:00<?, ?it/s]09/01 03:44:45 PM train loss 000 1.221729e+00 | epoch [3] / [5]\n",
            "09/01 03:44:45 PM pixAcc: 0.7834053039550781,  mIoU: 0.04695845116624356\n",
            "train loss: 1.221729; pixAcc: 0.783; mIoU 0.046958:  14% 50/364 [00:17<01:45,  2.98it/s]09/01 03:45:02 PM train loss 050 1.589592e+00 | epoch [3] / [5]\n",
            "09/01 03:45:02 PM pixAcc: 0.7013483982460171,  mIoU: 0.037392515575180814\n",
            "train loss: 1.589592; pixAcc: 0.701; mIoU 0.037393:  27% 100/364 [00:34<01:28,  3.00it/s]09/01 03:45:20 PM train loss 100 1.609233e+00 | epoch [3] / [5]\n",
            "09/01 03:45:20 PM pixAcc: 0.6966380506458849,  mIoU: 0.03722845001280398\n",
            "train loss: 1.609233; pixAcc: 0.697; mIoU 0.037228:  41% 150/364 [00:52<01:22,  2.61it/s]09/01 03:45:38 PM train loss 150 1.612179e+00 | epoch [3] / [5]\n",
            "09/01 03:45:38 PM pixAcc: 0.6951862360467974,  mIoU: 0.03777016052179239\n",
            "train loss: 1.612179; pixAcc: 0.695; mIoU 0.037770:  55% 200/364 [01:10<00:58,  2.81it/s]09/01 03:45:55 PM train loss 200 1.632956e+00 | epoch [3] / [5]\n",
            "09/01 03:45:55 PM pixAcc: 0.6926014648741158,  mIoU: 0.037793519851565545\n",
            "train loss: 1.632956; pixAcc: 0.693; mIoU 0.037794:  69% 250/364 [01:27<00:37,  3.02it/s]09/01 03:46:13 PM train loss 250 1.643984e+00 | epoch [3] / [5]\n",
            "09/01 03:46:13 PM pixAcc: 0.688900130678458,  mIoU: 0.03762132686039686\n",
            "train loss: 1.643984; pixAcc: 0.689; mIoU 0.037621:  82% 300/364 [01:44<00:21,  2.99it/s]09/01 03:46:30 PM train loss 300 1.651348e+00 | epoch [3] / [5]\n",
            "09/01 03:46:30 PM pixAcc: 0.6864071399270498,  mIoU: 0.03746177299607198\n",
            "train loss: 1.651348; pixAcc: 0.686; mIoU 0.037462:  96% 350/364 [02:02<00:04,  3.02it/s]09/01 03:46:47 PM train loss 350 1.650151e+00 | epoch [3] / [5]\n",
            "09/01 03:46:47 PM pixAcc: 0.6860400577556034,  mIoU: 0.037867569769433854\n",
            "train loss: 1.650151; pixAcc: 0.686; mIoU 0.037868: 100% 364/364 [02:07<00:00,  2.86it/s]\n",
            "  0% 0/182 [00:00<?, ?it/s]09/01 03:46:52 PM val loss: 2.56282901763916, pixAcc: 0.4633903503417969, mIoU: 0.025069482825639804\n",
            "val loss: 2.562829, pixAcc: 0.463, mIoU: 0.025069:  27% 50/182 [00:07<00:19,  6.91it/s]09/01 03:46:59 PM val loss: 1.8796711318633135, pixAcc: 0.6170157264260685, mIoU: 0.035870212742924734\n",
            "val loss: 1.879671, pixAcc: 0.617, mIoU: 0.035870:  55% 100/182 [00:16<00:13,  6.31it/s]09/01 03:47:08 PM val loss: 1.953432603637771, pixAcc: 0.6129143969847424, mIoU: 0.03559803876551886\n",
            "val loss: 1.953433, pixAcc: 0.613, mIoU: 0.035598:  82% 150/182 [00:23<00:04,  6.94it/s]09/01 03:47:15 PM val loss: 2.015102227792045, pixAcc: 0.6013983795974428, mIoU: 0.03474218720310934\n",
            "val loss: 2.015102, pixAcc: 0.601, mIoU: 0.034742: 100% 182/182 [00:28<00:00,  6.31it/s]\n",
            "09/01 03:47:21 PM current best loss 1.0, pixAcc 0.6028649834948132, mIoU 0.034624934555404406\n",
            "09/01 03:47:21 PM save checkpoint (epoch 3) in ../logs/nasunet/train/pascal_voc/20240901-151437  dur_time: {'day': 0.0, 'hour': 0.0, 'minute': 31.0, 'second': 35}\n",
            "09/01 03:47:21 PM current patience :0\n",
            "09/01 03:47:21 PM cost time: {'day': 0.0, 'hour': 0.0, 'minute': 31.0, 'second': 35}\n",
            "09/01 03:47:21 PM => Epoch 4, lr 0.0\n",
            "  0% 0/364 [00:00<?, ?it/s]09/01 03:47:22 PM train loss 000 1.289910e+00 | epoch [4] / [5]\n",
            "09/01 03:47:22 PM pixAcc: 0.7779521942138672,  mIoU: 0.04839875125605996\n",
            "train loss: 1.289910; pixAcc: 0.778; mIoU 0.048399:  14% 50/364 [00:17<01:46,  2.95it/s]09/01 03:47:39 PM train loss 050 1.591022e+00 | epoch [4] / [5]\n",
            "09/01 03:47:39 PM pixAcc: 0.705381991816502,  mIoU: 0.0427218089961941\n",
            "train loss: 1.591022; pixAcc: 0.705; mIoU 0.042722:  27% 100/364 [00:34<01:27,  3.02it/s]09/01 03:47:56 PM train loss 100 1.631535e+00 | epoch [4] / [5]\n",
            "09/01 03:47:56 PM pixAcc: 0.686987300910572,  mIoU: 0.04078657778302563\n",
            "train loss: 1.631535; pixAcc: 0.687; mIoU 0.040787:  41% 150/364 [00:52<01:10,  3.03it/s]09/01 03:48:13 PM train loss 150 1.613955e+00 | epoch [4] / [5]\n",
            "09/01 03:48:13 PM pixAcc: 0.6908797586201042,  mIoU: 0.04065291658813903\n",
            "train loss: 1.613955; pixAcc: 0.691; mIoU 0.040653:  55% 200/364 [01:09<01:01,  2.67it/s]09/01 03:48:31 PM train loss 200 1.619910e+00 | epoch [4] / [5]\n",
            "09/01 03:48:31 PM pixAcc: 0.6898519696287848,  mIoU: 0.04045423894148581\n",
            "train loss: 1.619910; pixAcc: 0.690; mIoU 0.040454:  69% 250/364 [01:27<00:44,  2.56it/s]09/01 03:48:49 PM train loss 250 1.633402e+00 | epoch [4] / [5]\n",
            "09/01 03:48:49 PM pixAcc: 0.6864741959894796,  mIoU: 0.03992795066365764\n",
            "train loss: 1.633402; pixAcc: 0.686; mIoU 0.039928:  82% 300/364 [01:44<00:21,  3.01it/s]09/01 03:49:06 PM train loss 300 1.619434e+00 | epoch [4] / [5]\n",
            "09/01 03:49:06 PM pixAcc: 0.689377997008669,  mIoU: 0.04003831893199904\n",
            "train loss: 1.619434; pixAcc: 0.689; mIoU 0.040038:  96% 350/364 [02:01<00:04,  3.00it/s]09/01 03:49:23 PM train loss 350 1.631639e+00 | epoch [4] / [5]\n",
            "09/01 03:49:23 PM pixAcc: 0.6870384977074431,  mIoU: 0.03993150067087366\n",
            "train loss: 1.631639; pixAcc: 0.687; mIoU 0.039932: 100% 364/364 [02:06<00:00,  2.88it/s]\n",
            "  0% 0/182 [00:00<?, ?it/s]09/01 03:49:28 PM val loss: 2.571218967437744, pixAcc: 0.4633903503417969, mIoU: 0.025069482825639804\n",
            "val loss: 2.571219, pixAcc: 0.463, mIoU: 0.025069:  27% 50/182 [00:08<00:18,  7.09it/s]09/01 03:49:36 PM val loss: 1.882609348671109, pixAcc: 0.6170157264260685, mIoU: 0.035870212742924734\n",
            "val loss: 1.882609, pixAcc: 0.617, mIoU: 0.035870:  55% 100/182 [00:16<00:16,  4.92it/s]09/01 03:49:44 PM val loss: 1.956304718952368, pixAcc: 0.6129143969847424, mIoU: 0.03559803876551886\n",
            "val loss: 1.956305, pixAcc: 0.613, mIoU: 0.035598:  82% 150/182 [00:24<00:04,  7.17it/s]09/01 03:49:52 PM val loss: 2.018212588417609, pixAcc: 0.6013983795974428, mIoU: 0.03474218720310934\n",
            "val loss: 2.018213, pixAcc: 0.601, mIoU: 0.034742: 100% 182/182 [00:28<00:00,  6.29it/s]\n",
            "09/01 03:49:56 PM current best loss 1.0, pixAcc 0.6028649834948132, mIoU 0.034624934555404406\n",
            "Early stopping\n",
            "09/01 03:49:56 PM cost time: {'day': 0.0, 'hour': 0.0, 'minute': 34.0, 'second': 11}\n",
            "09/01 03:49:56 PM log dir in : ../logs/nasunet/train/pascal_voc/20240901-151437\n"
          ]
        }
      ],
      "source": [
        "%cd experiment\n",
        "# search on pascal voc2012\n",
        "!python train.py --config ../configs/nas_unet/nas_unet_voc.yml"
      ]
    }
  ],
  "metadata": {
    "accelerator": "GPU",
    "colab": {
      "gpuType": "T4",
      "provenance": [],
      "include_colab_link": true
    },
    "kernelspec": {
      "display_name": "Python 3",
      "name": "python3"
    },
    "language_info": {
      "name": "python"
    }
  },
  "nbformat": 4,
  "nbformat_minor": 0
}